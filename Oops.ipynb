{
  "nbformat": 4,
  "nbformat_minor": 0,
  "metadata": {
    "colab": {
      "provenance": []
    },
    "kernelspec": {
      "name": "python3",
      "display_name": "Python 3"
    },
    "language_info": {
      "name": "python"
    }
  },
  "cells": [
    {
      "cell_type": "markdown",
      "source": [
        "**Oops**"
      ],
      "metadata": {
        "id": "cPmet45fbbvM"
      }
    },
    {
      "cell_type": "code",
      "source": [
        "#Q1 What is Object-Oriented Programming (OOP)?\n",
        "#   Object-Oriented Programming (OOP) is a programming paradigm that organizes code into objects. These objects represent real-world entities and encapsulate data (attributes) and behaviors (methods)."
      ],
      "metadata": {
        "id": "Ze9aDejHcBWX"
      },
      "execution_count": null,
      "outputs": []
    },
    {
      "cell_type": "code",
      "source": [
        "#Q2 What is a class in OOP?\n",
        "#   A class in Python is a blueprint for creating objects. It defines the attributes (data) and methods (functions) that objects of that class will have.\n",
        "#   It does not consume memory until an object is created."
      ],
      "metadata": {
        "id": "eNCiPuGFcHQL"
      },
      "execution_count": null,
      "outputs": []
    },
    {
      "cell_type": "code",
      "source": [
        "#Q3 What is an object in OOP?\n",
        "#   An object in Object-Oriented Programming is an instance of a class that encapsulates both data attributes/properties and behavior (methods/functions). Objects are the building blocks of an OOP-based system."
      ],
      "metadata": {
        "id": "RUawqXs2cHMz"
      },
      "execution_count": null,
      "outputs": []
    },
    {
      "cell_type": "code",
      "source": [
        "#Q4 What is the difference between abstraction and encapsulation?\n",
        "#   Abstraction and encapsulation are both fundamental concepts of object-oriented programming, but they serve different purposes.\n",
        "#   Abstraction-- Abstraction is the process of hiding implementation details and showing only the necessary features of an object. Its purpose is to simplify complex systems by exposing only the essential details.\n",
        "#                 It is Focuses on what an object does rather than how it does it and implemented using abstract classes and interfaces.\n",
        "#   Encapsulation-- Encapsulation is the process of wrapping data (variables) and methods into a single unit (class) and restricting direct access to some details. Its purpose is To protect data from unintended modifications and enforce controlled access.\n",
        "#                  It is uses access modifiers (private, public, protected)."
      ],
      "metadata": {
        "id": "O6kVwlQdcHKt"
      },
      "execution_count": null,
      "outputs": []
    },
    {
      "cell_type": "code",
      "source": [
        "#Q5 What are dunder methods in Python?\n",
        "#   Dunder methods are special methods in Python that start and end with double underscores (__). They are also called magic methods because they allow built-in behaviors for objects, such as iteration, operator overloading, and object representation.\n",
        "#   Some Dunder methods are---\n",
        "#   __init__\tConstructor, initializes an object\n",
        "#   __str__\tReturns a readable string representation (str())\n",
        "#   __repr__\tReturns an official string representation (repr())\n",
        "#   __call__\tMakes an object callable like a function\n",
        "#   __eq__, __lt__, __gt__\tDefines comparison (==, <, >)\n",
        "#   __add__, __sub__, __mul__\tOperator overloading (+, -, *)"
      ],
      "metadata": {
        "id": "6aCdC7A9cHIa"
      },
      "execution_count": null,
      "outputs": []
    },
    {
      "cell_type": "code",
      "source": [
        "#Q6 Explain the concept of inheritance in OOP.\n",
        "#   Inheritance is a fundamental concept in Object-Oriented Programming (OOP) that allows a new class (child/subclass) to inherit attributes and methods from an existing class (parent/superclass). This promotes code reusability and establishes a hierarchical relationship between classes.\n",
        "#   Types of Inheritance\n",
        "#     1. Single Inheritance – A child class inherits from one parent class.\n",
        "\n",
        "#     2. Multiple Inheritance – One child class may inherit from several parent classes when there is multiple inheritance\n",
        "\n",
        "#     3. Multilevel Inheritance – A class inherits from a child class or derived class under multilevel inheritance.Think of three classes: A, B, and C. Superclass A, child class B, and child class C are all subclasses of A.\n",
        "#     In otherwords, multilevel inheritance is the term used to describe a set of classes.\n",
        "\n",
        "#     4. Hierarchical Inheritance – A single parent class gives rise to multiple child classes under hierarchical inheritance. To put it another way, we can say that there is one parent class and several child classes.\n",
        "\n",
        "#     5. Hybrid Inheritance – When inheritance consists of multiple types or a combination of different inheritance is called hybrid inheritance.\n"
      ],
      "metadata": {
        "id": "m_aFJHuIcHGW"
      },
      "execution_count": null,
      "outputs": []
    },
    {
      "cell_type": "code",
      "source": [
        "#Q7 What is polymorphism in OOP?\n",
        "#   Polymorphism in Object-Oriented Programming allows different objects to be treated as if they are of the same type. It enables a single interface (method name) to work with different data types or objects, improving flexibility and reusability.\n",
        "\n",
        "#   Key features of polymorphism--\n",
        "#   1. Method Overriding – A child class provides a specific implementation of a method inherited from a parent class.\n",
        "#   2. Method Overloading (Not natively supported in Python) – The same method name is used with different parameters.\n"
      ],
      "metadata": {
        "id": "Rh3Dlza_cHER"
      },
      "execution_count": null,
      "outputs": []
    },
    {
      "cell_type": "code",
      "source": [
        "#Q8 How is encapsulation achieved in Python?\n",
        "#   Encapsulation in Python is achieved by restricting direct access to the data inside a class and controlling it through getter and setter methods. This ensures data security and prevents accidental modifications.\n",
        "#   Public Attributes (self.name) – Accessible from anywhere.\n",
        "#   Protected Attributes (self._name) – Indicated as \"internal use only\" (not strictly private).\n",
        "#   Private Attributes (self.__name) – Name-mangled to prevent direct access.\n"
      ],
      "metadata": {
        "id": "RbiYkzxmcHB4"
      },
      "execution_count": null,
      "outputs": []
    },
    {
      "cell_type": "code",
      "source": [
        "#Q9 What is a constructor in Python?\n",
        "#   A constructor in Python is a special method used to initialize an object when it is created. In Python, the constructor method is __init__(), which gets called automatically when a new instance of a class is created.\n",
        "#   syntax--class ClassName:\n",
        "#                def __init__(self, parameters):"
      ],
      "metadata": {
        "id": "Y00EMjJ1cG_f"
      },
      "execution_count": null,
      "outputs": []
    },
    {
      "cell_type": "code",
      "source": [
        "#Q10 What are class and static methods in Python?\n",
        "#    Class Methods – A class method works with the class itself rather than instances.\n",
        "#                    It takes cls as the first parameter (instead of self).\n",
        "#                    It can modify class-level attributes. It is defined using the @classmethod decorator.\n",
        "#    Static Method - A static method does not use self or cls.\n",
        "#                    It is independent of both the class and instance and Defined using the @staticmethod decorator.\n",
        "#                    It is used when a method does not need access to instance or class attributes."
      ],
      "metadata": {
        "id": "aXlq6cN6cG9P"
      },
      "execution_count": null,
      "outputs": []
    },
    {
      "cell_type": "code",
      "source": [
        "#Q11 What is method overloading in Python?\n",
        "#    Method Overloading allows multiple methods in a class to have the same name but different parameters.\n",
        "#    Python does not support traditional method overloading because Python functions allow default arguments and variable-length arguments, which serve a similar purpose."
      ],
      "metadata": {
        "id": "UMk9ffr8cG7C"
      },
      "execution_count": null,
      "outputs": []
    },
    {
      "cell_type": "code",
      "source": [
        "#Q12 What is method overriding in OOP?\n",
        "#    Method overriding in Object-Oriented Programming allows a subclass (child class) to provide a specific implementation of a method that is already defined in its superclass (parent class).\n",
        "#    The method in the child class must have the same name, parameters, and return type as in the parent class. It is used to modify or extend the behavior of an inherited method."
      ],
      "metadata": {
        "id": "Hdl5gcpecG49"
      },
      "execution_count": null,
      "outputs": []
    },
    {
      "cell_type": "code",
      "source": [
        "#Q13 What is a property decorator in Python?\n",
        "#    The property decorator in Python is used to define a method as a property. It allows you to access a method like an attribute (without parentheses ()).\n",
        "#    It is use for Controls access to private variables and Used for data validation and modification."
      ],
      "metadata": {
        "id": "cU2d9FbQcG2e"
      },
      "execution_count": null,
      "outputs": []
    },
    {
      "cell_type": "code",
      "source": [
        "#Q14 Why is polymorphism important in OOP?\n",
        "#    Polymorphism allows objects of different classes to be treated as objects of a common superclass. It enables a single interface to be used for different data types, improving flexibility and scalability in code.\n",
        "#    Polymorphism is important in for its Code Reusability, Flexibility and Extensibility, Supports Dynamic Method Binding, Enhances Maintainability & Scalability."
      ],
      "metadata": {
        "id": "-ra2FKsocG0R"
      },
      "execution_count": null,
      "outputs": []
    },
    {
      "cell_type": "code",
      "source": [
        "#Q15 What is an abstract class in Python?\n",
        "#    An abstract class in Python is a class that cannot be instantiated and is meant to be a blueprint for other classes. It typically contains one or more abstract methods, which must be implemented by any subclass."
      ],
      "metadata": {
        "id": "85UaPQDfcGyQ"
      },
      "execution_count": null,
      "outputs": []
    },
    {
      "cell_type": "code",
      "source": [
        "#Q16 What are the advantages of OOP?\n",
        "#    Object-Oriented Programming (OOP) is a programming paradigm based on the concept of objects, which bundle data and behavior together. OOP offers many advantages that make it one of the most widely used programming approaches.\n",
        "#    OOP makes programming easier, scalable, and maintainable. It helps organize code, reduce repetition, and model real-world scenarios efficiently.\n",
        "#    Also it works for code Reusability, Encapsulation, Modularity, Scalability, Readability."
      ],
      "metadata": {
        "id": "cbZ4M-PRcGwI"
      },
      "execution_count": null,
      "outputs": []
    },
    {
      "cell_type": "code",
      "source": [
        "#Q17 What is the difference between a class variable and an instance variable?\n",
        "#    Class Variable - A class variable is shared among all instances of the class. It is defined inside the class but outside methods. Accessed using ClassName.variable or self.variable.\n",
        "#    Instance Variable - An instance variable is unique to each object. It is sefined inside the __init__ method using self.variable_name. It has different values for each instance."
      ],
      "metadata": {
        "id": "8Q4MuejDcGrq"
      },
      "execution_count": null,
      "outputs": []
    },
    {
      "cell_type": "code",
      "source": [
        "#Q18 What is multiple inheritance in Python?\n",
        "#   Multiple inheritance is an OOP feature where a class can inherit attributes and methods from more than one parent class. This allows a child class to gain functionalities from multiple sources.\n",
        "#   Syntax----\n",
        "#             class Parent1:\n",
        "#               pass\n",
        "#             class Parent2:\n",
        "#               pass\n",
        "#             class Child(Parent1, Parent2):\n",
        "#               pass"
      ],
      "metadata": {
        "id": "W8S3vfM2cGpV"
      },
      "execution_count": null,
      "outputs": []
    },
    {
      "cell_type": "code",
      "source": [
        "#Q19 Explain the purpose of ‘’__str__’ and ‘__repr__’ ‘ methods in Python.\n",
        "#    In Python, __str__ and __repr__ are dunder (double underscore) methods used to return string representations of an object. They help control how objects are displayed when printed or inspected.\n",
        "#     __str__ (For Readable Output - End User Friendly)-- It is used to return a human-readable or informal string representation of an object and Called by print(obj) or str(obj).\n",
        "#    __repr__ (For Debugging - Developer Friendly)-- It is used to return a formal and unambiguous representation of an object and called by repr(obj) or when inspecting an object in the interpreter."
      ],
      "metadata": {
        "id": "t3Ces43tcGn1"
      },
      "execution_count": null,
      "outputs": []
    },
    {
      "cell_type": "code",
      "source": [
        "#Q20 What is the significance of the ‘super()’ function in Python?\n",
        "#    The super() function in Python is used to call methods from a parent (super) class inside a child (subclass). It is commonly used for method overriding and multiple inheritance.\n",
        "#    it is use for helps in code reuse by calling parent class methods without explicitly naming the parent an also Supports multiple inheritance and ensures proper Method Resolution Order (MRO)."
      ],
      "metadata": {
        "id": "0sttfK3rcGlD"
      },
      "execution_count": null,
      "outputs": []
    },
    {
      "cell_type": "code",
      "source": [
        "#Q21 What is the significance of the __del__ method in Python?\n",
        "#    The __del__ method is a destructor in Python, called automatically when an object is about to be destroyed. It allows for cleanup actions like closing files, releasing memory, or disconnecting from databases before an object is deleted.\n",
        "#    It is useful for resource management (closing files, releasing network connections) and Called when an object is garbage collected."
      ],
      "metadata": {
        "id": "s3EnnCR5cGi5"
      },
      "execution_count": null,
      "outputs": []
    },
    {
      "cell_type": "code",
      "source": [
        "#Q22 What is the difference between @staticmethod and @classmethod in Python?\n",
        "#    Both @staticmethod and @classmethod are decorators used to define methods inside a class that are not instance methods. However, they serve different purposes.\n",
        "#   @staticmethod-- It has no Access to Class or Instance.\n",
        "#                   It does not modify class attributes.\n",
        "#                   It Works like a regular function but inside a class. And used for utility/helper functions that don’t need access to the class.\n",
        "#   @classmethod-- It has Access to cls.\n",
        "#                  It used when a method needs to interact with or modify class-level data and first parameter must be cls (class itself)."
      ],
      "metadata": {
        "id": "Q0zknjAtcGgj"
      },
      "execution_count": null,
      "outputs": []
    },
    {
      "cell_type": "code",
      "source": [
        "#Q23 How does polymorphism work in Python with inheritance?\n",
        "#    Polymorphism in Python allows different classes to use the same method name but implement different behaviors. When combined with inheritance, polymorphism enables a subclass to override or extend the behavior of a parent class method.\n",
        "#    Inheritance enables method overriding, making polymorphism more powerful."
      ],
      "metadata": {
        "id": "KtgAmokYcGeq"
      },
      "execution_count": null,
      "outputs": []
    },
    {
      "cell_type": "code",
      "source": [
        "#Q24 What is method chaining in Python OOP?\n",
        "#    Method chaining is a technique in OOP where multiple methods are called on the same object in a single line. It improves code readability and avoids temporary variables.\n",
        "#    In chaining each method returns self (the object itself) so that another method can be called on it."
      ],
      "metadata": {
        "id": "4wQkQcHQcGcj"
      },
      "execution_count": null,
      "outputs": []
    },
    {
      "cell_type": "code",
      "source": [
        "#Q25 What is the purpose of the __call__ method in Python?\n",
        "#    The __call__ method in Python allows an instance of a class to be called like a function. This means you can treat an object like a function while maintaining state or behavior inside a class.\n",
        "#    It is a special (dunder) method that allows objects to be \"callable\". It can take any number of arguments and can be used to implement function-like behavior inside a class."
      ],
      "metadata": {
        "id": "FaavL8tBcGaQ"
      },
      "execution_count": null,
      "outputs": []
    },
    {
      "cell_type": "markdown",
      "source": [
        "**Practical Questions**"
      ],
      "metadata": {
        "id": "MHG0PqTeqNnB"
      }
    },
    {
      "cell_type": "code",
      "source": [
        "#Q1  Create a parent class Animal with a method speak() that prints a generic message. Create a child class Dog that overrides the speak() method to print \"Bark!\".\n",
        "class Animal:\n",
        "    def speak(self):\n",
        "        print(\"This animal makes a sound.\")\n",
        "\n",
        "class Dog(Animal):\n",
        "    def speak(self):\n",
        "        print(\"Bark!\")\n",
        "\n",
        "animal = Animal()\n",
        "animal.speak()\n",
        "\n",
        "dog = Dog()\n",
        "dog.speak()\n",
        "\n"
      ],
      "metadata": {
        "colab": {
          "base_uri": "https://localhost:8080/"
        },
        "id": "lBWAw_70cGX4",
        "outputId": "9de28d51-099e-4ffc-cc2b-588a2ba38b1a"
      },
      "execution_count": null,
      "outputs": [
        {
          "output_type": "stream",
          "name": "stdout",
          "text": [
            "This animal makes a sound.\n",
            "Bark!\n"
          ]
        }
      ]
    },
    {
      "cell_type": "code",
      "source": [
        "#Q2 Write a program to create an abstract class Shape with a method area(). Derive classes Circle and Rectangle from it and implement the area() method in both.\n",
        "import abc\n",
        "class Shape:\n",
        "\n",
        "    @abc.abstractmethod\n",
        "    def calculate_area(self):\n",
        "        pass\n",
        "\n",
        "class Rectangle(Shape):\n",
        "    def __init__(self, length, breadth):\n",
        "        self.length = length\n",
        "        self.breadth = breadth\n",
        "    def calculate_area(self):\n",
        "        return \"self.width * self.height\"\n",
        "\n",
        "\n",
        "class Circle(Shape):\n",
        "  def __init__(self, radius):\n",
        "        self.radius = radius\n",
        "  def calculate_area(self):\n",
        "      return \"area of circle is πr **2\"\n",
        "\n",
        "rect = Rectangle()\n",
        "rect.calculate_area()\n",
        "\n",
        "c = Circle(5)\n",
        "c.calculate_area()"
      ],
      "metadata": {
        "id": "lYNot445OJ9U"
      },
      "execution_count": null,
      "outputs": []
    },
    {
      "cell_type": "code",
      "source": [
        "#Q3 Implement a multi-level inheritance scenario where a class Vehicle has an attribute type. Derive a class Car and further derive a class ElectricCar that adds a battery attribute.\n",
        "class Vehicle:\n",
        "    def __init__(self, vehicle_type):\n",
        "        self.type = vehicle_type\n",
        "\n",
        "    def show_type(self):\n",
        "        print(f\"Vehicle Type: {self.type}\")\n",
        "\n",
        "class Car(Vehicle):\n",
        "    def __init__(self, brand, model, vehicle_type=\"Car\"):\n",
        "        super().__init__(vehicle_type)\n",
        "        self.brand = brand\n",
        "        self.model = model\n",
        "\n",
        "    def show_car_details(self):\n",
        "        print(f\"Car Brand: {self.brand}, Model: {self.model}\")\n",
        "\n",
        "class ElectricCar(Car):\n",
        "    def __init__(self, brand, model, battery_capacity):\n",
        "        super().__init__(brand, model)\n",
        "        self.battery = battery_capacity\n",
        "\n",
        "    def show_electric_car_details(self):\n",
        "        self.show_type()\n",
        "        self.show_car_details()\n",
        "        print(f\"Battery Capacity: {self.battery} kWh\")\n",
        "\n",
        "ev = ElectricCar(\"Tesla\", \"Model S\", 100)\n",
        "ev.show_electric_car_details()"
      ],
      "metadata": {
        "id": "r2lBZvDIcGTO",
        "colab": {
          "base_uri": "https://localhost:8080/"
        },
        "outputId": "b12442b4-8131-4534-b66d-b291f7fce34b"
      },
      "execution_count": 3,
      "outputs": [
        {
          "output_type": "stream",
          "name": "stdout",
          "text": [
            "Vehicle Type: Car\n",
            "Car Brand: Tesla, Model: Model S\n",
            "Battery Capacity: 100 kWh\n"
          ]
        }
      ]
    },
    {
      "cell_type": "code",
      "source": [
        "#Q4 Demonstrate polymorphism by creating a base class Bird with a method fly(). Create two derived classes Sparrow and Penguin that override the fly() method.\n",
        "class Bird:\n",
        "    def fly(self):\n",
        "        print(\"Some birds can fly.\")\n",
        "\n",
        "class Sparrow(Bird):\n",
        "    def fly(self):\n",
        "        print(\"Sparrow flies high in the sky!\")\n",
        "\n",
        "class Penguin(Bird):\n",
        "    def fly(self):\n",
        "        print(\"Penguins cannot fly, but they swim well!\")\n",
        "\n",
        "def bird_fly_test(bird):\n",
        "    bird.fly()\n",
        "\n",
        "sparrow = Sparrow()\n",
        "penguin = Penguin()\n",
        "\n",
        "bird_fly_test(sparrow)\n",
        "bird_fly_test(penguin)"
      ],
      "metadata": {
        "id": "1-8Wjd1BcGQW",
        "colab": {
          "base_uri": "https://localhost:8080/"
        },
        "outputId": "015b2638-4072-4b8f-baa6-2e0cf2b229d0"
      },
      "execution_count": 2,
      "outputs": [
        {
          "output_type": "stream",
          "name": "stdout",
          "text": [
            "Sparrow flies high in the sky!\n",
            "Penguins cannot fly, but they swim well!\n"
          ]
        }
      ]
    },
    {
      "cell_type": "code",
      "source": [
        "#Q5 Write a program to demonstrate encapsulation by creating a class BankAccount with private attributes balance and methods to deposit, withdraw, and check balance.\n",
        "class BankAccount:\n",
        "    def __init__(self, I_balance=0):\n",
        "        self.__balance = I_balance  # Private attribute\n",
        "\n",
        "    def deposit(self, amount):\n",
        "        if amount > 0:\n",
        "            self.__balance += amount\n",
        "            print(f\"Deposited: ${amount}\")\n",
        "        else:\n",
        "            print(\"Deposit amount must be positive\")\n",
        "\n",
        "    def withdraw(self, amount):\n",
        "        if 0 < amount <= self.__balance:\n",
        "            self.__balance -= amount\n",
        "            print(f\"Withdrawn: ${amount}\")\n",
        "        else:\n",
        "            print(\"Invalid withdrawal amount or insufficient funds\")\n",
        "\n",
        "    def check_balance(self):\n",
        "        return f\"Current Balance: ${self.__balance}\"\n",
        "\n",
        "# Demonstration\n",
        "account = BankAccount(100)\n",
        "account.deposit(50)\n",
        "account.withdraw(30)\n",
        "print(account.check_balance)\n"
      ],
      "metadata": {
        "id": "D7WkyY6dcGJl",
        "colab": {
          "base_uri": "https://localhost:8080/"
        },
        "outputId": "18187b59-3c5d-48ac-ea31-db007574b2a6"
      },
      "execution_count": 9,
      "outputs": [
        {
          "output_type": "stream",
          "name": "stdout",
          "text": [
            "Deposited: $50\n",
            "Withdrawn: $30\n",
            "<bound method BankAccount.check_balance of <__main__.BankAccount object at 0x7ecfc71a5950>>\n"
          ]
        }
      ]
    },
    {
      "cell_type": "code",
      "source": [
        "#Q6 Demonstrate runtime polymorphism using a method play() in a base class Instrument. Derive classes Guitar and Piano that implement their own version of play().\n",
        "class Instrument:\n",
        "    def play(self):\n",
        "        print(\"Playing an instrument.\")\n",
        "\n",
        "class Guitar(Instrument):\n",
        "    def play(self):\n",
        "        print(\"Playing the Guitar: Strumming strings!\")\n",
        "\n",
        "class Piano(Instrument):\n",
        "    def play(self):\n",
        "        print(\"Playing the Piano: Pressing keys!\")\n",
        "\n",
        "def play_instrument(instrument):\n",
        "    instrument.play()\n",
        "\n",
        "guitar = Guitar()\n",
        "piano = Piano()\n",
        "\n",
        "play_instrument(guitar)\n",
        "play_instrument(piano)\n"
      ],
      "metadata": {
        "id": "hvPa-M2xqbYF",
        "colab": {
          "base_uri": "https://localhost:8080/"
        },
        "outputId": "882f14d6-e483-4563-9715-01d30529cc03"
      },
      "execution_count": 10,
      "outputs": [
        {
          "output_type": "stream",
          "name": "stdout",
          "text": [
            "Playing the Guitar: Strumming strings!\n",
            "Playing the Piano: Pressing keys!\n"
          ]
        }
      ]
    },
    {
      "cell_type": "code",
      "source": [
        "#Q7 Create a class MathOperations with a class method add_numbers() to add two numbers and a static method subtract_numbers() to subtract two numbers\n",
        "class MathOperations:\n",
        "    @classmethod\n",
        "    def add_numbers(cls, a, b):\n",
        "        \"\"\"Class method to add two numbers.\"\"\"\n",
        "        return a + b\n",
        "\n",
        "    @staticmethod\n",
        "    def subtract_numbers(a, b):\n",
        "        \"\"\"Static method to subtract two numbers.\"\"\"\n",
        "        return a - b\n",
        "\n",
        "sum_result = MathOperations.add_numbers(10, 5)\n",
        "print(\"Sum:\", sum_result)\n",
        "\n",
        "difference_result = MathOperations.subtract_numbers(10, 5)\n",
        "print(\"Difference:\", difference_result)\n"
      ],
      "metadata": {
        "id": "g1JOAz4GqbUq",
        "colab": {
          "base_uri": "https://localhost:8080/"
        },
        "outputId": "b976ecf8-3dcf-4b84-8432-ce98d423b842"
      },
      "execution_count": 11,
      "outputs": [
        {
          "output_type": "stream",
          "name": "stdout",
          "text": [
            "Sum: 15\n",
            "Difference: 5\n"
          ]
        }
      ]
    },
    {
      "cell_type": "code",
      "source": [
        "#Q8  Implement a class Person with a class method to count the total number of persons created.\n",
        "class Person:\n",
        "    total_persons = 0\n",
        "\n",
        "    def __init__(self, name):\n",
        "        self.name = name\n",
        "        Person.total_persons += 1\n",
        "\n",
        "    @classmethod\n",
        "    def get_count(cls):\n",
        "       return cls.total_persons\n",
        "\n",
        "p1 = Person(\"Alice\")\n",
        "p2 = Person(\"Bob\")\n",
        "p3 = Person(\"Charlie\")\n",
        "\n",
        "print(\"Total Persons Created:\", Person.get_count())"
      ],
      "metadata": {
        "id": "Ce79IQjqqbR7",
        "colab": {
          "base_uri": "https://localhost:8080/"
        },
        "outputId": "8ba0a4ec-d9ae-4818-c4a4-8187c0abeb01"
      },
      "execution_count": 15,
      "outputs": [
        {
          "output_type": "stream",
          "name": "stdout",
          "text": [
            "Total Persons Created: 3\n"
          ]
        }
      ]
    },
    {
      "cell_type": "code",
      "source": [
        "#Q9  Write a class Fraction with attributes numerator and denominator. Override the str method to display the fraction as \"numerator/denominator\".\n",
        "class Fraction:\n",
        "    def __init__(self, numerator, denominator):\n",
        "        self.numerator = numerator\n",
        "        self.denominator = denominator\n",
        "\n",
        "    def __str__(self):\n",
        "        return f\"{self.numerator}/{self.denominator}\"\n",
        "\n",
        "f1 = Fraction(3, 4)\n",
        "f2 = Fraction(7, 2)\n",
        "\n",
        "\n",
        "print(f1)\n",
        "print(f2)"
      ],
      "metadata": {
        "colab": {
          "base_uri": "https://localhost:8080/"
        },
        "id": "xDDfk8XZSmDx",
        "outputId": "365b1a58-7b98-4881-9eff-4434a65eb0c8"
      },
      "execution_count": 18,
      "outputs": [
        {
          "output_type": "stream",
          "name": "stdout",
          "text": [
            "3/4\n",
            "7/2\n"
          ]
        }
      ]
    },
    {
      "cell_type": "code",
      "source": [
        "#Q10  Demonstrate operator overloading by creating a class Vector and overriding the add method to add two vectors.\n",
        "class Vector:\n",
        "    def __init__(self, x, y):\n",
        "        self.x = x\n",
        "        self.y = y\n",
        "\n",
        "    def __add__(self, other):\n",
        "        return Vector(self.x + other.x, self.y + other.y)\n",
        "\n",
        "    def __str__(self):\n",
        "        return f\"({self.x}, {self.y})\"\n",
        "\n",
        "v1 = Vector(3, 4)\n",
        "v2 = Vector(1, 2)\n",
        "\n",
        "v3 = v1 + v2\n",
        "\n",
        "print(\"Vector 1:\", v1)\n",
        "print(\"Vector 2:\", v2)\n",
        "print(\"Sum of Vectors:\", v3)\n"
      ],
      "metadata": {
        "colab": {
          "base_uri": "https://localhost:8080/"
        },
        "id": "mOHr0BMjSx0q",
        "outputId": "91a34ca4-4580-4fb9-f97b-bf84cde63278"
      },
      "execution_count": 21,
      "outputs": [
        {
          "output_type": "stream",
          "name": "stdout",
          "text": [
            "Vector 1: (3, 4)\n",
            "Vector 2: (1, 2)\n",
            "Sum of Vectors: (4, 6)\n"
          ]
        }
      ]
    },
    {
      "cell_type": "code",
      "source": [
        "#Q11  Create a class Person with attributes name and age. Add a method greet() that prints \"Hello, my name is {name} and I am {age} years old.\"\n",
        "class Person:\n",
        "    def __init__(self, name, age):\n",
        "        self.name = name\n",
        "        self.age = age\n",
        "\n",
        "    def greet(self):\n",
        "      print(f\"Hello, my name is {self.name} and I am {self.age} years old.\")\n",
        "\n",
        "p1 = Person(\"Alice\", 25)\n",
        "\n",
        "p1.greet()"
      ],
      "metadata": {
        "id": "DhNY3JUWqbJx",
        "colab": {
          "base_uri": "https://localhost:8080/"
        },
        "outputId": "fe1dd47b-dc9b-4d51-bc5a-109eb48f2bfa"
      },
      "execution_count": 22,
      "outputs": [
        {
          "output_type": "stream",
          "name": "stdout",
          "text": [
            "Hello, my name is Alice and I am 25 years old.\n"
          ]
        }
      ]
    },
    {
      "cell_type": "code",
      "source": [
        "#Q12  Implement a class Student with attributes name and grades. Create a method average_grade() to compute the average of the grades.\n",
        "class Student:\n",
        "    def __init__(self, name, grades):\n",
        "        self.name = name\n",
        "        self.grades = grades\n",
        "\n",
        "    def average_grade(self):\n",
        "      if not self.grades:  # Check if the list is empty to avoid division by zero\n",
        "            return 0\n",
        "      return sum(self.grades) / len(self.grades)\n",
        "\n",
        "s1 = Student(\"Alice\", [85, 90, 78, 92, 88])\n",
        "\n",
        "print(f\"{s1.name}'s Average Grade:\", s1.average_grade())"
      ],
      "metadata": {
        "id": "ki9CWwpBqbG4",
        "colab": {
          "base_uri": "https://localhost:8080/"
        },
        "outputId": "f539511f-86ed-4aaf-d109-eb61c0a16518"
      },
      "execution_count": 25,
      "outputs": [
        {
          "output_type": "stream",
          "name": "stdout",
          "text": [
            "Alice's Average Grade: 86.6\n"
          ]
        }
      ]
    },
    {
      "cell_type": "code",
      "source": [
        "#Q13  Create a class Rectangle with methods set_dimensions() to set the dimensions and area() to calculate the area.\n",
        "class Rectangle:\n",
        "    def __init__(self, length=0, width=0):\n",
        "        self.length = length\n",
        "        self.width = width\n",
        "\n",
        "    def set_dimensions(self, length, width):\n",
        "      self.length = length\n",
        "      self.width = width\n",
        "\n",
        "    def area(self):\n",
        "      return self.length * self.width\n",
        "\n",
        "rect = Rectangle()\n",
        "rect.set_dimensions(5, 10)\n",
        "\n",
        "print(\"Rectangle Area:\", rect.area())"
      ],
      "metadata": {
        "id": "is-Dg3fWqa9s",
        "colab": {
          "base_uri": "https://localhost:8080/"
        },
        "outputId": "e3e9cb96-cfca-46f7-ab93-41e4f16e9a86"
      },
      "execution_count": 27,
      "outputs": [
        {
          "output_type": "stream",
          "name": "stdout",
          "text": [
            "Rectangle Area: 50\n"
          ]
        }
      ]
    },
    {
      "cell_type": "code",
      "source": [
        "#Q14 Create a class Employee with a method calculate_salary() that computes the salary based on hours worked and hourly rate. Create a derived class Manager that adds a bonus to the salary.\n",
        "class Employee:\n",
        "    def __init__(self, name, hours_worked, hourly_rate):\n",
        "        self.name = name\n",
        "        self.hours_worked = hours_worked\n",
        "        self.hourly_rate = hourly_rate\n",
        "\n",
        "    def calculate_salary(self):\n",
        "       return self.hours_worked * self.hourly_rate\n",
        "\n",
        "class Manager(Employee):\n",
        "    def __init__(self, name, hours_worked, hourly_rate, bonus):\n",
        "        super().__init__(name, hours_worked, hourly_rate)\n",
        "        self.bonus = bonus\n",
        "\n",
        "    def calculate_salary(self):\n",
        "        return super().calculate_salary() + self.bonus\n",
        "\n",
        "emp = Employee(\"John Doe\", 40, 20)  # 40 hours, $20 per hour\n",
        "print(f\"{emp.name}'s Salary: ${emp.calculate_salary()}\")\n",
        "\n",
        "mgr = Manager(\"Alice Smith\", 40, 30, 500)  # 40 hours, $30 per hour, $500 bonus\n",
        "print(f\"{mgr.name}'s Salary: ${mgr.calculate_salary()}\")\n"
      ],
      "metadata": {
        "id": "0L2yLSp7qax-",
        "colab": {
          "base_uri": "https://localhost:8080/"
        },
        "outputId": "2d500df8-5391-4ed9-c4ed-86cfe475f621"
      },
      "execution_count": 28,
      "outputs": [
        {
          "output_type": "stream",
          "name": "stdout",
          "text": [
            "John Doe's Salary: $800\n",
            "Alice Smith's Salary: $1700\n"
          ]
        }
      ]
    },
    {
      "cell_type": "code",
      "source": [
        "#Q15  Create a class Product with attributes name, price, and quantity. Implement a method total_price() that calculates the total price of the product.\n",
        "class Product:\n",
        "    def __init__(self, name, price, quantity):\n",
        "        self.name = name\n",
        "        self.price = price\n",
        "        self.quantity = quantity\n",
        "\n",
        "    def total_price(self):\n",
        "        return self.price * self.quantity\n",
        "\n",
        "product1 = Product(\"Laptop\", 800, 2)\n",
        "\n",
        "print(f\"Total price of {product1.quantity} {product1.name}(s): ${product1.total_price()}\")\n"
      ],
      "metadata": {
        "id": "cvHEWssOqlhH",
        "colab": {
          "base_uri": "https://localhost:8080/"
        },
        "outputId": "97b9bc58-6db5-4cfc-c515-44dfcfc73b2a"
      },
      "execution_count": 29,
      "outputs": [
        {
          "output_type": "stream",
          "name": "stdout",
          "text": [
            "Total price of 2 Laptop(s): $1600\n"
          ]
        }
      ]
    },
    {
      "cell_type": "code",
      "source": [
        "#Q16  Create a class Animal with an abstract method sound(). Create two derived classes Cow and Sheep that implement the sound() method.\n",
        "from abc import ABC, abstractmethod\n",
        "\n",
        "class Animal(ABC):\n",
        "    @abstractmethod\n",
        "    def sound(self):\n",
        "        pass\n",
        "\n",
        "class Cow(Animal):\n",
        "    def sound(self):\n",
        "        return \"Moo\"\n",
        "\n",
        "class Sheep(Animal):\n",
        "    def sound(self):\n",
        "        return \"Baa\"\n",
        "\n",
        "cow = Cow()\n",
        "sheep = Sheep()\n",
        "\n",
        "print(\"Cow Sound:\", cow.sound())\n",
        "print(\"Sheep Sound:\", sheep.sound())\n"
      ],
      "metadata": {
        "id": "kR1-QLO_qldj",
        "colab": {
          "base_uri": "https://localhost:8080/"
        },
        "outputId": "5e5820a1-9215-4fb7-8b8f-ca52aa769fc1"
      },
      "execution_count": 35,
      "outputs": [
        {
          "output_type": "stream",
          "name": "stdout",
          "text": [
            "Cow Sound: Moo\n",
            "Sheep Sound: Baa\n"
          ]
        }
      ]
    },
    {
      "cell_type": "code",
      "source": [
        "#Q17 Create a class Book with attributes title, author, and year_published. Add a method get_book_info() that returns a formatted string with the book's details.\n",
        "class Book:\n",
        "    def __init__(self, title, author, year_published):\n",
        "        self.title = title\n",
        "        self.author = author\n",
        "        self.year_published = year_published\n",
        "\n",
        "    def get_book_info(self):\n",
        "        return f\"'{self.title}' by {self.author} (Published: {self.year_published})\"\n",
        "\n",
        "book1 = Book(\"To Kill a Mockingbird\", \"Harper Lee\", 1960)\n",
        "\n",
        "print(book1.get_book_info())\n"
      ],
      "metadata": {
        "id": "zWAfT5IHqlSS",
        "colab": {
          "base_uri": "https://localhost:8080/"
        },
        "outputId": "caecee37-15d7-42c1-deaa-661033c125d6"
      },
      "execution_count": 31,
      "outputs": [
        {
          "output_type": "stream",
          "name": "stdout",
          "text": [
            "'To Kill a Mockingbird' by Harper Lee (Published: 1960)\n"
          ]
        }
      ]
    },
    {
      "cell_type": "code",
      "source": [
        "#Q18  Create a class House with attributes address and price. Create a derived class Mansion that adds an attribute number_of_rooms.\n",
        "class House:\n",
        "    def __init__(self, address, price):\n",
        "        self.address = address\n",
        "        self.price = price\n",
        "\n",
        "    def display_info(self):\n",
        "      print(f\"Address: {self.address}, Price: ${self.price}\")\n",
        "\n",
        "class Mansion(House):\n",
        "    def __init__(self, address, price, number_of_rooms):\n",
        "      super().__init__(address, price)\n",
        "      self.number_of_rooms = number_of_rooms\n",
        "\n",
        "    def display_info(self):\n",
        "        super().display_info()\n",
        "        print(f\"Number of Rooms: {self.number_of_rooms}\")\n"
      ],
      "metadata": {
        "id": "O2l_O7ZyqrBd"
      },
      "execution_count": 30,
      "outputs": []
    }
  ]
}